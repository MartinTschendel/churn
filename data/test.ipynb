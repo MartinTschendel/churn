<img src="pic-10.png" width=400 align="left">
