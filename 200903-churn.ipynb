{
 "cells": [
  {
   "cell_type": "code",
   "execution_count": 1,
   "metadata": {},
   "outputs": [],
   "source": [
    "import pandas as pd\n",
    "import numpy as np\n",
    "\n",
    "import seaborn as sns\n",
    "from matplotlib import pyplot as plt\n",
    "%matplotlib inline"
   ]
  },
  {
   "cell_type": "code",
   "execution_count": 2,
   "metadata": {},
   "outputs": [],
   "source": [
    "df = pd.read_csv('data/churn_data.csv')"
   ]
  },
  {
   "cell_type": "code",
   "execution_count": 3,
   "metadata": {},
   "outputs": [],
   "source": [
    "#change dtype of 'TotalCharges' from object to numeric\n",
    "#if there is an error, because the value has a space (\" \"), we use --> errors='coerce'\n",
    "total_charges = pd.to_numeric(df.TotalCharges, errors='coerce')"
   ]
  },
  {
   "cell_type": "code",
   "execution_count": 4,
   "metadata": {},
   "outputs": [
    {
     "data": {
      "text/html": [
       "<div>\n",
       "<style scoped>\n",
       "    .dataframe tbody tr th:only-of-type {\n",
       "        vertical-align: middle;\n",
       "    }\n",
       "\n",
       "    .dataframe tbody tr th {\n",
       "        vertical-align: top;\n",
       "    }\n",
       "\n",
       "    .dataframe thead th {\n",
       "        text-align: right;\n",
       "    }\n",
       "</style>\n",
       "<table border=\"1\" class=\"dataframe\">\n",
       "  <thead>\n",
       "    <tr style=\"text-align: right;\">\n",
       "      <th></th>\n",
       "      <th>customerID</th>\n",
       "      <th>TotalCharges</th>\n",
       "    </tr>\n",
       "  </thead>\n",
       "  <tbody>\n",
       "    <tr>\n",
       "      <td>488</td>\n",
       "      <td>4472-LVYGI</td>\n",
       "      <td></td>\n",
       "    </tr>\n",
       "    <tr>\n",
       "      <td>753</td>\n",
       "      <td>3115-CZMZD</td>\n",
       "      <td></td>\n",
       "    </tr>\n",
       "    <tr>\n",
       "      <td>936</td>\n",
       "      <td>5709-LVOEQ</td>\n",
       "      <td></td>\n",
       "    </tr>\n",
       "    <tr>\n",
       "      <td>1082</td>\n",
       "      <td>4367-NUYAO</td>\n",
       "      <td></td>\n",
       "    </tr>\n",
       "    <tr>\n",
       "      <td>1340</td>\n",
       "      <td>1371-DWPAZ</td>\n",
       "      <td></td>\n",
       "    </tr>\n",
       "    <tr>\n",
       "      <td>3331</td>\n",
       "      <td>7644-OMVMY</td>\n",
       "      <td></td>\n",
       "    </tr>\n",
       "    <tr>\n",
       "      <td>3826</td>\n",
       "      <td>3213-VVOLG</td>\n",
       "      <td></td>\n",
       "    </tr>\n",
       "    <tr>\n",
       "      <td>4380</td>\n",
       "      <td>2520-SGTTA</td>\n",
       "      <td></td>\n",
       "    </tr>\n",
       "    <tr>\n",
       "      <td>5218</td>\n",
       "      <td>2923-ARZLG</td>\n",
       "      <td></td>\n",
       "    </tr>\n",
       "    <tr>\n",
       "      <td>6670</td>\n",
       "      <td>4075-WKNIU</td>\n",
       "      <td></td>\n",
       "    </tr>\n",
       "    <tr>\n",
       "      <td>6754</td>\n",
       "      <td>2775-SEFEE</td>\n",
       "      <td></td>\n",
       "    </tr>\n",
       "  </tbody>\n",
       "</table>\n",
       "</div>"
      ],
      "text/plain": [
       "      customerID TotalCharges\n",
       "488   4472-LVYGI             \n",
       "753   3115-CZMZD             \n",
       "936   5709-LVOEQ             \n",
       "1082  4367-NUYAO             \n",
       "1340  1371-DWPAZ             \n",
       "3331  7644-OMVMY             \n",
       "3826  3213-VVOLG             \n",
       "4380  2520-SGTTA             \n",
       "5218  2923-ARZLG             \n",
       "6670  4075-WKNIU             \n",
       "6754  2775-SEFEE             "
      ]
     },
     "execution_count": 4,
     "metadata": {},
     "output_type": "execute_result"
    }
   ],
   "source": [
    "#getting null (missing) values\n",
    "df[total_charges.isnull()][['customerID', 'TotalCharges']]"
   ]
  },
  {
   "cell_type": "code",
   "execution_count": 5,
   "metadata": {},
   "outputs": [],
   "source": [
    "#set missing values to zero\n",
    "df.TotalCharges = pd.to_numeric(df.TotalCharges, errors='coerce')\n",
    "df.TotalCharges = df.TotalCharges.fillna(0)"
   ]
  },
  {
   "cell_type": "code",
   "execution_count": 6,
   "metadata": {},
   "outputs": [],
   "source": [
    "#column names & string values: lowercasing everything and replace spaces with underscore\n",
    "df.columns = df.columns.str.lower().str.replace(' ', '_')\n",
    "string_columns = list(df.dtypes[df.dtypes == 'object'].index)\n",
    "\n",
    "for col in string_columns:\n",
    "    df[col] = df[col].str.lower().str.replace(' ', '_')"
   ]
  },
  {
   "cell_type": "code",
   "execution_count": 7,
   "metadata": {},
   "outputs": [
    {
     "data": {
      "text/html": [
       "<div>\n",
       "<style scoped>\n",
       "    .dataframe tbody tr th:only-of-type {\n",
       "        vertical-align: middle;\n",
       "    }\n",
       "\n",
       "    .dataframe tbody tr th {\n",
       "        vertical-align: top;\n",
       "    }\n",
       "\n",
       "    .dataframe thead th {\n",
       "        text-align: right;\n",
       "    }\n",
       "</style>\n",
       "<table border=\"1\" class=\"dataframe\">\n",
       "  <thead>\n",
       "    <tr style=\"text-align: right;\">\n",
       "      <th></th>\n",
       "      <th>customerid</th>\n",
       "      <th>gender</th>\n",
       "      <th>seniorcitizen</th>\n",
       "      <th>partner</th>\n",
       "      <th>dependents</th>\n",
       "      <th>tenure</th>\n",
       "      <th>phoneservice</th>\n",
       "      <th>multiplelines</th>\n",
       "      <th>internetservice</th>\n",
       "      <th>onlinesecurity</th>\n",
       "      <th>...</th>\n",
       "      <th>deviceprotection</th>\n",
       "      <th>techsupport</th>\n",
       "      <th>streamingtv</th>\n",
       "      <th>streamingmovies</th>\n",
       "      <th>contract</th>\n",
       "      <th>paperlessbilling</th>\n",
       "      <th>paymentmethod</th>\n",
       "      <th>monthlycharges</th>\n",
       "      <th>totalcharges</th>\n",
       "      <th>churn</th>\n",
       "    </tr>\n",
       "  </thead>\n",
       "  <tbody>\n",
       "    <tr>\n",
       "      <td>0</td>\n",
       "      <td>7590-vhveg</td>\n",
       "      <td>female</td>\n",
       "      <td>0</td>\n",
       "      <td>yes</td>\n",
       "      <td>no</td>\n",
       "      <td>1</td>\n",
       "      <td>no</td>\n",
       "      <td>no_phone_service</td>\n",
       "      <td>dsl</td>\n",
       "      <td>no</td>\n",
       "      <td>...</td>\n",
       "      <td>no</td>\n",
       "      <td>no</td>\n",
       "      <td>no</td>\n",
       "      <td>no</td>\n",
       "      <td>month-to-month</td>\n",
       "      <td>yes</td>\n",
       "      <td>electronic_check</td>\n",
       "      <td>29.85</td>\n",
       "      <td>29.85</td>\n",
       "      <td>no</td>\n",
       "    </tr>\n",
       "    <tr>\n",
       "      <td>1</td>\n",
       "      <td>5575-gnvde</td>\n",
       "      <td>male</td>\n",
       "      <td>0</td>\n",
       "      <td>no</td>\n",
       "      <td>no</td>\n",
       "      <td>34</td>\n",
       "      <td>yes</td>\n",
       "      <td>no</td>\n",
       "      <td>dsl</td>\n",
       "      <td>yes</td>\n",
       "      <td>...</td>\n",
       "      <td>yes</td>\n",
       "      <td>no</td>\n",
       "      <td>no</td>\n",
       "      <td>no</td>\n",
       "      <td>one_year</td>\n",
       "      <td>no</td>\n",
       "      <td>mailed_check</td>\n",
       "      <td>56.95</td>\n",
       "      <td>1889.50</td>\n",
       "      <td>no</td>\n",
       "    </tr>\n",
       "    <tr>\n",
       "      <td>2</td>\n",
       "      <td>3668-qpybk</td>\n",
       "      <td>male</td>\n",
       "      <td>0</td>\n",
       "      <td>no</td>\n",
       "      <td>no</td>\n",
       "      <td>2</td>\n",
       "      <td>yes</td>\n",
       "      <td>no</td>\n",
       "      <td>dsl</td>\n",
       "      <td>yes</td>\n",
       "      <td>...</td>\n",
       "      <td>no</td>\n",
       "      <td>no</td>\n",
       "      <td>no</td>\n",
       "      <td>no</td>\n",
       "      <td>month-to-month</td>\n",
       "      <td>yes</td>\n",
       "      <td>mailed_check</td>\n",
       "      <td>53.85</td>\n",
       "      <td>108.15</td>\n",
       "      <td>yes</td>\n",
       "    </tr>\n",
       "  </tbody>\n",
       "</table>\n",
       "<p>3 rows × 21 columns</p>\n",
       "</div>"
      ],
      "text/plain": [
       "   customerid  gender  seniorcitizen partner dependents  tenure phoneservice  \\\n",
       "0  7590-vhveg  female              0     yes         no       1           no   \n",
       "1  5575-gnvde    male              0      no         no      34          yes   \n",
       "2  3668-qpybk    male              0      no         no       2          yes   \n",
       "\n",
       "      multiplelines internetservice onlinesecurity  ... deviceprotection  \\\n",
       "0  no_phone_service             dsl             no  ...               no   \n",
       "1                no             dsl            yes  ...              yes   \n",
       "2                no             dsl            yes  ...               no   \n",
       "\n",
       "  techsupport streamingtv streamingmovies        contract paperlessbilling  \\\n",
       "0          no          no              no  month-to-month              yes   \n",
       "1          no          no              no        one_year               no   \n",
       "2          no          no              no  month-to-month              yes   \n",
       "\n",
       "      paymentmethod monthlycharges  totalcharges  churn  \n",
       "0  electronic_check          29.85         29.85     no  \n",
       "1      mailed_check          56.95       1889.50     no  \n",
       "2      mailed_check          53.85        108.15    yes  \n",
       "\n",
       "[3 rows x 21 columns]"
      ]
     },
     "execution_count": 7,
     "metadata": {},
     "output_type": "execute_result"
    }
   ],
   "source": [
    "df.head(3)"
   ]
  },
  {
   "cell_type": "code",
   "execution_count": 8,
   "metadata": {},
   "outputs": [],
   "source": [
    "#change target variable from object to integer (if yes, then 1; if no, then 0)\n",
    "df.churn = (df.churn == 'yes').astype(int)"
   ]
  },
  {
   "cell_type": "code",
   "execution_count": 9,
   "metadata": {},
   "outputs": [],
   "source": [
    "#splitting the dataset in different subsets\n",
    "from sklearn.model_selection import train_test_split\n"
   ]
  },
  {
   "cell_type": "code",
   "execution_count": 10,
   "metadata": {},
   "outputs": [],
   "source": [
    "#shuffling the data of df and splitting it into 2 sets\n",
    "#df_train_full (80%), df_test(20%)\n",
    "#random_state guarantees that the data is always shuffled in the same way\n",
    "df_train_full, df_test = train_test_split(df, test_size=0.2, random_state=1)"
   ]
  },
  {
   "cell_type": "code",
   "execution_count": 11,
   "metadata": {},
   "outputs": [],
   "source": [
    "#take df_train_full and split it into train and val\n",
    "df_train, df_val = train_test_split(df_train_full, test_size=0.33, random_state=11)\n",
    "#save target variable in a matrix array\n",
    "y_train = df_train.churn.values\n",
    "y_val = df_val.churn.values\n",
    "#delete target variable from training and validation set\n",
    "del df_train['churn']\n",
    "del df_val['churn']"
   ]
  },
  {
   "cell_type": "markdown",
   "metadata": {},
   "source": [
    "<b>Feature Engineering</b><br>\n",
    "We compare 3 scenarios:<br>\n",
    "* Scenario 1: All features are included \n",
    "* Scenario 2: The two least important features 'gender' and 'phoneservice' are excluded\n",
    "* Scenario 3: The most important feature 'contract' is exluded<br><br>\n",
    "The cell below gives the accuracy for each Scenario\n"
   ]
  },
  {
   "cell_type": "code",
   "execution_count": 12,
   "metadata": {},
   "outputs": [],
   "source": [
    "#create variable lists\n",
    "categorical = ['gender', 'seniorcitizen', 'partner', 'dependents',\n",
    "'phoneservice', 'multiplelines', 'internetservice',\n",
    "'onlinesecurity', 'onlinebackup', 'deviceprotection',\n",
    "'techsupport', 'streamingtv', 'streamingmovies',\n",
    "'contract', 'paperlessbilling', 'paymentmethod']\n",
    "\n",
    "categ_ex_1 = ['seniorcitizen', 'partner', 'dependents',\n",
    "'multiplelines', 'internetservice',\n",
    "'onlinesecurity', 'onlinebackup', 'deviceprotection',\n",
    "'techsupport', 'streamingtv', 'streamingmovies',\n",
    "'contract', 'paperlessbilling', 'paymentmethod']\n",
    "\n",
    "categ_ex_2 = ['gender', 'seniorcitizen', 'partner', 'dependents',\n",
    "'phoneservice', 'multiplelines', 'internetservice',\n",
    "'onlinesecurity', 'onlinebackup', 'deviceprotection',\n",
    "'techsupport', 'streamingtv', 'streamingmovies',\n",
    "'paperlessbilling', 'paymentmethod']\n",
    "\n",
    "numerical = ['tenure', 'monthlycharges', 'totalcharges']\n",
    "\n",
    "lists = [categorical, categ_ex_1, categ_ex_2]\n",
    "scenario = ['Scenario 1:', 'Scenario 2:', 'Scenario 3:']"
   ]
  },
  {
   "cell_type": "code",
   "execution_count": 13,
   "metadata": {},
   "outputs": [
    {
     "name": "stdout",
     "output_type": "stream",
     "text": [
      "Accuracy for Scenario 1: 0.8016129032258065\n",
      "Accuracy for Scenario 2: 0.8026881720430108\n",
      "Accuracy for Scenario 3: 0.7973118279569893\n"
     ]
    }
   ],
   "source": [
    "x = 0\n",
    "for L in lists:\n",
    "    def prepare_X(df, categ):\n",
    "        #convert training set to dictionary\n",
    "        train_dict = df[categ + numerical].to_dict(orient='rows')\n",
    "        from sklearn.feature_extraction import DictVectorizer\n",
    "        dv = DictVectorizer(sparse=False)\n",
    "        dv.fit(train_dict)\n",
    "        #use 'transform' method to convert dictionaries to matrix\n",
    "        X = dv.transform(train_dict)\n",
    "        return X\n",
    "    \n",
    "    #train logictic regression model\n",
    "    from sklearn.linear_model import LogisticRegression\n",
    "    #train model by calling the 'fit' method\n",
    "    #X_train is derived from training set (besides we also have validation and testing set)\n",
    "    model = LogisticRegression(solver='liblinear', random_state = 1)\n",
    "    model.fit(prepare_X(df_train, L), y_train)\n",
    "    \n",
    "    def prepare_val(df, categ):\n",
    "        #convert training set to dictionary\n",
    "        train_dict = df[categ + numerical].to_dict(orient='rows')\n",
    "        from sklearn.feature_extraction import DictVectorizer\n",
    "        dv_new = DictVectorizer(sparse=False)\n",
    "        dv_new.fit(train_dict)\n",
    "        #use 'transform' method to convert dictionaries to matrix\n",
    "        X = dv_new.transform(train_dict)\n",
    "        return X\n",
    "    \n",
    "    #use the model to predict the target variable\n",
    "    y_pred = model.predict_proba(prepare_val(df_val, L))[:, 1]\n",
    "    y_pred >= 0.5\n",
    "    churn = y_pred >= 0.5\n",
    "    print('Accuracy for', scenario[x], (y_val == churn).mean())\n",
    "    x += 1"
   ]
  },
  {
   "cell_type": "code",
   "execution_count": 14,
   "metadata": {},
   "outputs": [],
   "source": [
    "from sklearn.metrics import accuracy_score"
   ]
  },
  {
   "cell_type": "code",
   "execution_count": 15,
   "metadata": {},
   "outputs": [
    {
     "name": "stdout",
     "output_type": "stream",
     "text": [
      "0.00 0.261\n",
      "0.10 0.563\n",
      "0.20 0.697\n",
      "0.30 0.751\n",
      "0.40 0.791\n",
      "0.50 0.797\n",
      "0.60 0.791\n",
      "0.70 0.778\n",
      "0.80 0.748\n",
      "0.90 0.739\n",
      "1.00 0.739\n"
     ]
    }
   ],
   "source": [
    "#loop over different thresholds and see what has the best accuracy\n",
    "#a threshold of 0.5 gives us the best accuracy\n",
    "thresholds = np.linspace(0, 1, 11) #this gives 11 numbers starting with 0.0, 0.1, 0.2, ...\n",
    "for t in thresholds:\n",
    "    #compute accuracy\n",
    "    churn = y_pred >= t\n",
    "    acc = accuracy_score(y_val, churn)\n",
    "    #print results\n",
    "    print('%0.2f %0.3f' % (t, acc))"
   ]
  },
  {
   "cell_type": "code",
   "execution_count": 16,
   "metadata": {},
   "outputs": [],
   "source": [
    "thresholds = np.linspace(0, 1, 21)\n",
    "accuracies = []\n",
    "for t in thresholds:\n",
    "    acc = accuracy_score(y_val, y_pred >= t)\n",
    "    accuracies.append(acc)"
   ]
  },
  {
   "cell_type": "code",
   "execution_count": 17,
   "metadata": {},
   "outputs": [
    {
     "data": {
      "text/plain": [
       "Text(0, 0.5, 'Threshold')"
      ]
     },
     "execution_count": 17,
     "metadata": {},
     "output_type": "execute_result"
    },
    {
     "data": {
      "image/png": "[encoded data removed]",
      "text/plain": [
       "<Figure size 432x288 with 1 Axes>"
      ]
     },
     "metadata": {
      "needs_background": "light"
     },
     "output_type": "display_data"
    }
   ],
   "source": [
    "plt.plot(thresholds, accuracies)\n",
    "plt.title('Threshold vs Accuracy', color='white')\n",
    "plt.xlabel('Threshold', color='white')\n",
    "plt.ylabel('Threshold', color='white')"
   ]
  },
  {
   "cell_type": "markdown",
   "metadata": {},
   "source": [
    "Applying that to small model"
   ]
  },
  {
   "cell_type": "code",
   "execution_count": 18,
   "metadata": {},
   "outputs": [],
   "source": [
    "small_subset = ['contract', 'tenure', 'totalcharges']\n",
    "#convert to dictionary\n",
    "train_dict_small = df_train[small_subset].to_dict(orient='rows')\n",
    "#make use of DictVectorizer to perform one hot encoding\n",
    "from sklearn.feature_extraction import DictVectorizer\n",
    "dv_small = DictVectorizer(sparse=False)\n",
    "#use fit method to apply DictVectorizer to dictionary\n",
    "dv_small.fit(train_dict_small)\n",
    "#transform dictionary to matrix array\n",
    "X_small_train = dv_small.transform(train_dict_small)\n"
   ]
  },
  {
   "cell_type": "code",
   "execution_count": 19,
   "metadata": {},
   "outputs": [
    {
     "data": {
      "text/plain": [
       "0.7672043010752688"
      ]
     },
     "execution_count": 19,
     "metadata": {},
     "output_type": "execute_result"
    }
   ],
   "source": [
    "model_small = LogisticRegression(solver='liblinear', random_state=1)\n",
    "model_small.fit(X_small_train, y_train)\n",
    "\n",
    "#train a simpler model\n",
    "#apply one-hot-encoding to validation set\n",
    "val_dict_small = df_val[small_subset].to_dict(orient='rows')\n",
    "dv_small.fit(val_dict_small)\n",
    "X_small_val = dv_small.transform(val_dict_small)\n",
    "#predict churn using this small model\n",
    "y_pred_small = model_small.predict_proba(X_small_val)[:, 1]\n",
    "churn_small = y_pred_small >= 0.5\n",
    "#calculate accuracy\n",
    "accuracy_score(y_val, churn_small)"
   ]
  },
  {
   "cell_type": "markdown",
   "metadata": {},
   "source": [
    "Is an accuracy of 0.77 now a good value? We need to compare it. One possibility could be<br>\n",
    "the <b>Dummy Baseline</b>, what\n",
    "* always predicts the majority class: here \"no churn (False)\""
   ]
  },
  {
   "cell_type": "code",
   "execution_count": 20,
   "metadata": {},
   "outputs": [],
   "source": [
    "#making a baseline prediction\n",
    "#get number of customers in validation set\n",
    "size_val = len(y_val)\n",
    "#create array with only false elements\n",
    "baseline = np.repeat(False, size_val)"
   ]
  },
  {
   "cell_type": "code",
   "execution_count": 21,
   "metadata": {},
   "outputs": [
    {
     "data": {
      "text/plain": [
       "0.7387096774193549"
      ]
     },
     "execution_count": 21,
     "metadata": {},
     "output_type": "execute_result"
    }
   ],
   "source": [
    "#check the accuracy\n",
    "accuracy_score(baseline, y_val)"
   ]
  },
  {
   "cell_type": "markdown",
   "metadata": {},
   "source": [
    "the smaller model is only 2% better and the big model is only 6% better than the dummy baseline.<br>\n",
    "We need another metric: the <b>Confusion Table</b><br>\n",
    "<img src=\"data/pic-9.png\" width=600 align=\"left\">"
   ]
  },
  {
   "cell_type": "markdown",
   "metadata": {},
   "source": [
    "what the model is doing with the validation set:<br>\n",
    "<img src=\"data/pic-10.png\" width=400 align=\"left\">"
   ]
  },
  {
   "cell_type": "code",
   "execution_count": 22,
   "metadata": {},
   "outputs": [],
   "source": [
    "#calculate the 4 outcomes\n",
    "#make prediction at threshold 0.5\n",
    "t = 0.5\n",
    "predict_churn = (y_pred >= t)\n",
    "predict_no_churn = (y_pred < t)\n",
    "\n",
    "#get the actual target values\n",
    "actual_churn = (y_val == 1)\n",
    "actual_no_churn = (y_val == 0)\n",
    "\n",
    "#calculate true and false positives\n",
    "true_positive = (predict_churn & actual_churn).sum()\n",
    "false_positive = (predict_churn & actual_no_churn).sum()\n",
    "\n",
    "#calculate false and true negatives\n",
    "#the logical \"and\" operator only evaluates to true if both values are true\n",
    "false_negative = (predict_no_churn & actual_churn).sum()\n",
    "true_negative = (predict_no_churn & actual_no_churn).sum()\n"
   ]
  },
  {
   "cell_type": "markdown",
   "metadata": {},
   "source": [
    "Generating 2 arrays out of the predicated target values:<br>\n",
    "<img src=\"data/pic-11.png\" width=600 align=\"left\">"
   ]
  },
  {
   "cell_type": "markdown",
   "metadata": {},
   "source": [
    "Generating 2 arrays out of the actual target values:<br>\n",
    "<img src=\"data/pic-12.png\" width=600 align=\"left\">"
   ]
  },
  {
   "cell_type": "code",
   "execution_count": 27,
   "metadata": {},
   "outputs": [
    {
     "data": {
      "text/plain": [
       "array([[1208,  166],\n",
       "       [ 211,  275]])"
      ]
     },
     "execution_count": 27,
     "metadata": {},
     "output_type": "execute_result"
    }
   ],
   "source": [
    "#put all 4 values in one numpy array\n",
    "confusion_table = np.array(\n",
    "[[true_negative, false_positive],\n",
    "[false_negative, true_positive]])\n",
    "confusion_table"
   ]
  },
  {
   "cell_type": "code",
   "execution_count": 28,
   "metadata": {},
   "outputs": [
    {
     "data": {
      "text/plain": [
       "array([[0.64946237, 0.08924731],\n",
       "       [0.11344086, 0.14784946]])"
      ]
     },
     "execution_count": 28,
     "metadata": {},
     "output_type": "execute_result"
    }
   ],
   "source": [
    "#take fractions to better understand the values\n",
    "confusion_table / confusion_table.sum()"
   ]
  },
  {
   "cell_type": "code",
   "execution_count": 29,
   "metadata": {},
   "outputs": [],
   "source": [
    "#produce confusion table out of the small table\n",
    "\n",
    "#calculate the 4 outcomes\n",
    "#make prediction at threshold 0.5\n",
    "t = 0.5\n",
    "predict_churn = (y_pred_small >= t)\n",
    "predict_no_churn = (y_pred_small < t)\n",
    "\n",
    "#get the actual target values\n",
    "actual_churn = (y_val == 1)\n",
    "actual_no_churn = (y_val == 0)\n",
    "\n",
    "#calculate true and false positives\n",
    "true_positive = (predict_churn & actual_churn).sum()\n",
    "false_positive = (predict_churn & actual_no_churn).sum()\n",
    "\n",
    "#calculate false and true negatives\n",
    "#the logical \"and\" operator only evaluates to true if both values are true\n",
    "false_negative = (predict_no_churn & actual_churn).sum()\n",
    "true_negative = (predict_no_churn & actual_no_churn).sum()\n"
   ]
  },
  {
   "cell_type": "code",
   "execution_count": 30,
   "metadata": {},
   "outputs": [
    {
     "data": {
      "text/plain": [
       "array([[1189,  185],\n",
       "       [ 248,  238]])"
      ]
     },
     "execution_count": 30,
     "metadata": {},
     "output_type": "execute_result"
    }
   ],
   "source": [
    "#put all 4 values in one numpy array\n",
    "confusion_table = np.array(\n",
    "[[true_negative, false_positive],\n",
    "[false_negative, true_positive]])\n",
    "confusion_table"
   ]
  },
  {
   "cell_type": "code",
   "execution_count": 31,
   "metadata": {},
   "outputs": [
    {
     "data": {
      "text/plain": [
       "array([[0.63924731, 0.09946237],\n",
       "       [0.13333333, 0.12795699]])"
      ]
     },
     "execution_count": 31,
     "metadata": {},
     "output_type": "execute_result"
    }
   ],
   "source": [
    "#take fractions to better understand the values\n",
    "confusion_table / confusion_table.sum()"
   ]
  },
  {
   "cell_type": "markdown",
   "metadata": {},
   "source": [
    "<b>Precision and Recall</b><br>\n",
    "metrics that help us to better understand the quality of the model<br>\n",
    "in case of class imbalance."
   ]
  },
  {
   "cell_type": "markdown",
   "metadata": {},
   "source": [
    "<b>Precision</b>: How many of the positive predictions are correct<br>\n",
    "* P = TP/(TP + FP)"
   ]
  },
  {
   "cell_type": "markdown",
   "metadata": {},
   "source": [
    "<b>Recall</b>: Positive predictions divided by the number of all positive examples<br>\n",
    "FN stands for a positive case, that was predicted negative<br>\n",
    "* R = TP/(TP + FN)"
   ]
  },
  {
   "cell_type": "markdown",
   "metadata": {},
   "source": [
    "<img src=\"data/pic-13.png\" width=600 align=\"left\">"
   ]
  },
  {
   "cell_type": "markdown",
   "metadata": {},
   "source": [
    "* precision helps us to understand how many customers received promotional messages per mmistake (actually they are not going to churn)\n",
    "* recall helps us to understand how many of the churning customers haven't been identified by the model"
   ]
  },
  {
   "cell_type": "code",
   "execution_count": null,
   "metadata": {},
   "outputs": [],
   "source": []
  }
 ],
 "metadata": {
  "kernelspec": {
   "display_name": "Python 3",
   "language": "python",
   "name": "python3"
  },
  "language_info": {
   "codemirror_mode": {
    "name": "ipython",
    "version": 3
   },
   "file_extension": ".py",
   "mimetype": "text/x-python",
   "name": "python",
   "nbconvert_exporter": "python",
   "pygments_lexer": "ipython3",
   "version": "3.7.4"
  }
 },
 "nbformat": 4,
 "nbformat_minor": 2
}
