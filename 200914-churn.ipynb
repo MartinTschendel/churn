{
 "cells": [
  {
   "cell_type": "markdown",
   "metadata": {},
   "source": [
    "<b>Purpose of this notebook:</b>\n",
    "* take in churning dataset and analyse precision and recall for different thresholds"
   ]
  },
  {
   "cell_type": "code",
   "execution_count": 1,
   "metadata": {},
   "outputs": [],
   "source": [
    "import pandas as pd\n",
    "import numpy as np\n",
    "\n",
    "import seaborn as sns\n",
    "from matplotlib import pyplot as plt\n",
    "%matplotlib inline"
   ]
  },
  {
   "cell_type": "code",
   "execution_count": 2,
   "metadata": {},
   "outputs": [],
   "source": [
    "df = pd.read_csv('data/churn_data.csv')"
   ]
  },
  {
   "cell_type": "code",
   "execution_count": 3,
   "metadata": {},
   "outputs": [],
   "source": [
    "#change dtype of 'TotalCharges' from object to numeric\n",
    "#if there is an error, because the value has a space (\" \"), we use --> errors='coerce'\n",
    "total_charges = pd.to_numeric(df.TotalCharges, errors='coerce')"
   ]
  },
  {
   "cell_type": "code",
   "execution_count": 4,
   "metadata": {},
   "outputs": [],
   "source": [
    "#set missing values to zero\n",
    "df.TotalCharges = pd.to_numeric(df.TotalCharges, errors='coerce')\n",
    "df.TotalCharges = df.TotalCharges.fillna(0)"
   ]
  },
  {
   "cell_type": "code",
   "execution_count": 5,
   "metadata": {},
   "outputs": [],
   "source": [
    "#column names & string values: lowercasing everything and replace spaces with underscore\n",
    "df.columns = df.columns.str.lower().str.replace(' ', '_')\n",
    "string_columns = list(df.dtypes[df.dtypes == 'object'].index)\n",
    "\n",
    "for col in string_columns:\n",
    "    df[col] = df[col].str.lower().str.replace(' ', '_')"
   ]
  },
  {
   "cell_type": "code",
   "execution_count": 6,
   "metadata": {},
   "outputs": [],
   "source": [
    "#change target variable from object to integer (if yes, then 1; if no, then 0)\n",
    "df.churn = (df.churn == 'yes').astype(int)"
   ]
  },
  {
   "cell_type": "code",
   "execution_count": 7,
   "metadata": {},
   "outputs": [],
   "source": [
    "#splitting the dataset in different subsets\n",
    "from sklearn.model_selection import train_test_split\n",
    "\n",
    "#shuffling the data of df and splitting it into 2 sets\n",
    "#df_train_full (80%), df_test(20%)\n",
    "#random_state guarantees that the data is always shuffled in the same way\n",
    "df_train_full, df_test = train_test_split(df, test_size=0.2, random_state=1)\n",
    "\n",
    "#take df_train_full and split it into train and val\n",
    "df_train, df_val = train_test_split(df_train_full, test_size=0.33, random_state=11)\n",
    "\n",
    "#save target variable in a matrix array\n",
    "y_train = df_train.churn.values\n",
    "y_val = df_val.churn.values\n",
    "\n",
    "#delete target variable from training and validation set\n",
    "del df_train['churn']\n",
    "del df_val['churn']"
   ]
  },
  {
   "cell_type": "code",
   "execution_count": 8,
   "metadata": {},
   "outputs": [],
   "source": [
    "#create variable lists\n",
    "categorical = ['gender', 'seniorcitizen', 'partner', 'dependents',\n",
    "'phoneservice', 'multiplelines', 'internetservice',\n",
    "'onlinesecurity', 'onlinebackup', 'deviceprotection',\n",
    "'techsupport', 'streamingtv', 'streamingmovies',\n",
    "'contract', 'paperlessbilling', 'paymentmethod']\n",
    "\n",
    "numerical = ['tenure', 'monthlycharges', 'totalcharges']\n"
   ]
  },
  {
   "cell_type": "code",
   "execution_count": 9,
   "metadata": {},
   "outputs": [
    {
     "data": {
      "text/plain": [
       "LogisticRegression(C=1.0, class_weight=None, dual=False, fit_intercept=True,\n",
       "                   intercept_scaling=1, l1_ratio=None, max_iter=100,\n",
       "                   multi_class='warn', n_jobs=None, penalty='l2',\n",
       "                   random_state=1, solver='liblinear', tol=0.0001, verbose=0,\n",
       "                   warm_start=False)"
      ]
     },
     "execution_count": 9,
     "metadata": {},
     "output_type": "execute_result"
    }
   ],
   "source": [
    "def prepare_X(df):\n",
    "    #convert training set to dictionary\n",
    "    train_dict = df[categorical + numerical].to_dict(orient='rows')\n",
    "    from sklearn.feature_extraction import DictVectorizer\n",
    "    dv = DictVectorizer(sparse=False)\n",
    "    dv.fit(train_dict)\n",
    "    #use 'transform' method to convert dictionaries to matrix\n",
    "    X = dv.transform(train_dict)\n",
    "    return X\n",
    "\n",
    "#train logictic regression model\n",
    "from sklearn.linear_model import LogisticRegression\n",
    "#train model by calling the 'fit' method\n",
    "#X_train is derived from training set (besides we also have validation and testing set)\n",
    "model = LogisticRegression(solver='liblinear', random_state = 1)\n",
    "model.fit(prepare_X(df_train), y_train)"
   ]
  },
  {
   "cell_type": "code",
   "execution_count": 10,
   "metadata": {},
   "outputs": [],
   "source": [
    "def prepare_val(df_inp):\n",
    "    #convert training set to dictionary\n",
    "    train_dict = df_inp[categorical + numerical].to_dict(orient='rows')\n",
    "    from sklearn.feature_extraction import DictVectorizer\n",
    "    dv_new = DictVectorizer(sparse=False)\n",
    "    dv_new.fit(train_dict)\n",
    "    #use 'transform' method to convert dictionaries to matrix\n",
    "    X = dv_new.transform(train_dict)\n",
    "    return X\n",
    "\n",
    "y_pred = model.predict_proba(prepare_val(df_val))[:, 1]"
   ]
  },
  {
   "cell_type": "code",
   "execution_count": 11,
   "metadata": {},
   "outputs": [
    {
     "name": "stdout",
     "output_type": "stream",
     "text": [
      "0.00 0.261\n",
      "0.10 0.595\n",
      "0.20 0.690\n",
      "0.30 0.755\n",
      "0.40 0.782\n",
      "0.50 0.802\n",
      "0.60 0.790\n",
      "0.70 0.774\n",
      "0.80 0.742\n",
      "0.90 0.739\n",
      "1.00 0.739\n"
     ]
    }
   ],
   "source": [
    "from sklearn.metrics import accuracy_score\n",
    "#loop over different thresholds and see what has the best accuracy\n",
    "#a threshold of 0.5 gives us the best accuracy\n",
    "thresholds = np.linspace(0, 1, 11) #this gives 11 numbers starting with 0.0, 0.1, 0.2, ...\n",
    "for t in thresholds:\n",
    "    #compute accuracy\n",
    "    churn = y_pred >= t\n",
    "    acc = accuracy_score(y_val, churn)\n",
    "    #print results\n",
    "    print('%0.2f %0.3f' % (t, acc))"
   ]
  },
  {
   "cell_type": "code",
   "execution_count": 12,
   "metadata": {},
   "outputs": [],
   "source": [
    "#calculate 4 outcomes\n",
    "#make prediction at threshold 0.5\n",
    "t = 0.5\n",
    "predict_churn = (y_pred >= t)\n",
    "predict_no_churn = (y_pred < t)\n",
    "\n",
    "#get the actual target values\n",
    "actual_churn = (y_val == 1)\n",
    "actual_no_churn =(y_val == 0)\n",
    "\n",
    "#calculate true and false positives\n",
    "true_positive = (predict_churn & actual_churn).sum()\n",
    "false_positive = (predict_churn & actual_no_churn).sum()\n",
    "\n",
    "#calculate false and true negatives\n",
    "#the logical \"and\" operator only evaluates to true if both values are true\n",
    "false_negative = (predict_no_churn & actual_churn).sum()\n",
    "true_negative = (predict_no_churn & actual_no_churn).sum()\n"
   ]
  },
  {
   "cell_type": "code",
   "execution_count": 13,
   "metadata": {},
   "outputs": [
    {
     "data": {
      "text/plain": [
       "array([[1202,  172],\n",
       "       [ 197,  289]])"
      ]
     },
     "execution_count": 13,
     "metadata": {},
     "output_type": "execute_result"
    }
   ],
   "source": [
    "#put all 4 values in one numpy array\n",
    "confusion_table = np.array(\n",
    "[[true_negative, false_positive],\n",
    "[false_negative, true_positive]])\n",
    "confusion_table"
   ]
  },
  {
   "cell_type": "code",
   "execution_count": 14,
   "metadata": {},
   "outputs": [],
   "source": [
    "#computing confusion table for different thresholds\n",
    "\n",
    "#result list\n",
    "scores = []\n",
    "#create array with different threshold values\n",
    "thresholds = np.linspace(0, 1, 101)\n",
    "\n",
    "#compute confusion table for predictions at each threshold\n",
    "for t in thresholds:\n",
    "    tp = ((y_pred >= t) & (y_val == 1)).sum()\n",
    "    fp = ((y_pred >= t) & (y_val == 0)).sum()\n",
    "    fn = ((y_pred < t) & (y_val == 1)).sum()\n",
    "    tn = ((y_pred < t) & (y_val == 0)).sum()\n",
    "    #append results to scores list\n",
    "    scores.append((t, tp, fp, fn, tn))"
   ]
  },
  {
   "cell_type": "code",
   "execution_count": 15,
   "metadata": {},
   "outputs": [],
   "source": [
    "#convert list of tuples to dataframe\n",
    "df_scores = pd.DataFrame(scores)\n",
    "#give names to the columns\n",
    "df_scores.columns = ['threshold', 'tp', 'fp', 'fn', 'tn']"
   ]
  },
  {
   "cell_type": "code",
   "execution_count": 16,
   "metadata": {},
   "outputs": [],
   "source": [
    "#compute precision and recall\n",
    "#and add it to the df\n",
    "df_scores['prec'] = (df_scores.tp / (df_scores.tp + df_scores.fp)).round(2)\n",
    "df_scores['rec'] = (df_scores.tp / (df_scores.tp + df_scores.fn)).round(2)"
   ]
  },
  {
   "cell_type": "code",
   "execution_count": 17,
   "metadata": {},
   "outputs": [
    {
     "data": {
      "text/plain": [
       "<matplotlib.legend.Legend at 0x14e4ee0a988>"
      ]
     },
     "execution_count": 17,
     "metadata": {},
     "output_type": "execute_result"
    },
    {
     "data": {
      "image/png": "[encoded data removed]",
      "text/plain": [
       "<Figure size 432x288 with 1 Axes>"
      ]
     },
     "metadata": {
      "needs_background": "light"
     },
     "output_type": "display_data"
    }
   ],
   "source": [
    "#plot the values\n",
    "plt.plot(df_scores.threshold, df_scores.prec, label=\"precision\")\n",
    "plt.plot(df_scores.threshold, df_scores.rec, label=\"recall\")\n",
    "plt.legend()"
   ]
  },
  {
   "cell_type": "markdown",
   "metadata": {},
   "source": [
    "* precision helps us to understand how many customers received promotional messages per mistake (actually they are not going to churn); or: how many of the positive predictions are correct\n",
    "* recall helps us to understand how many of the churning customers haven't been identified by the model\n",
    "* with a threshold = 0, all customers are predicted as churning (positivie predictions),\n",
    "but many are wrong (FP), so the precision is small at a threshold =0\n",
    "* with a threshold = 0, we can correctly predict all churning customers,\n",
    "and because the denominator is standing for all positive examples (y_val == 1),\n",
    "the precision equals 1 at a threshold =0\n"
   ]
  },
  {
   "cell_type": "code",
   "execution_count": 18,
   "metadata": {},
   "outputs": [
    {
     "data": {
      "text/html": [
       "<div>\n",
       "<style scoped>\n",
       "    .dataframe tbody tr th:only-of-type {\n",
       "        vertical-align: middle;\n",
       "    }\n",
       "\n",
       "    .dataframe tbody tr th {\n",
       "        vertical-align: top;\n",
       "    }\n",
       "\n",
       "    .dataframe thead th {\n",
       "        text-align: right;\n",
       "    }\n",
       "</style>\n",
       "<table border=\"1\" class=\"dataframe\">\n",
       "  <thead>\n",
       "    <tr style=\"text-align: right;\">\n",
       "      <th></th>\n",
       "      <th>threshold</th>\n",
       "      <th>tp</th>\n",
       "      <th>fp</th>\n",
       "      <th>fn</th>\n",
       "      <th>tn</th>\n",
       "      <th>prec</th>\n",
       "      <th>rec</th>\n",
       "    </tr>\n",
       "  </thead>\n",
       "  <tbody>\n",
       "    <tr>\n",
       "      <td>48</td>\n",
       "      <td>0.48</td>\n",
       "      <td>298</td>\n",
       "      <td>189</td>\n",
       "      <td>188</td>\n",
       "      <td>1185</td>\n",
       "      <td>0.61</td>\n",
       "      <td>0.61</td>\n",
       "    </tr>\n",
       "  </tbody>\n",
       "</table>\n",
       "</div>"
      ],
      "text/plain": [
       "    threshold   tp   fp   fn    tn  prec   rec\n",
       "48       0.48  298  189  188  1185  0.61  0.61"
      ]
     },
     "execution_count": 18,
     "metadata": {},
     "output_type": "execute_result"
    }
   ],
   "source": [
    "#get row of df where prec equals rec\n",
    "#https://stackoverflow.com/questions/48751140/pandas-select-rows-where-two-columns-are-different\n",
    "df_scores.query('prec == rec')"
   ]
  },
  {
   "cell_type": "markdown",
   "metadata": {},
   "source": [
    "Use the F1 score to overcome the precision recall tradeoff\n",
    "* F1 = 2 * P * R / (P + R)\n",
    "* identify the threshold where F1 is max"
   ]
  },
  {
   "cell_type": "code",
   "execution_count": 19,
   "metadata": {},
   "outputs": [],
   "source": [
    "#calculate F1 score\n",
    "df_scores['f1'] = (2 * df_scores.prec * df_scores.rec) / (df_scores.prec + df_scores.rec)"
   ]
  },
  {
   "cell_type": "code",
   "execution_count": 20,
   "metadata": {},
   "outputs": [
    {
     "data": {
      "text/html": [
       "<div>\n",
       "<style scoped>\n",
       "    .dataframe tbody tr th:only-of-type {\n",
       "        vertical-align: middle;\n",
       "    }\n",
       "\n",
       "    .dataframe tbody tr th {\n",
       "        vertical-align: top;\n",
       "    }\n",
       "\n",
       "    .dataframe thead th {\n",
       "        text-align: right;\n",
       "    }\n",
       "</style>\n",
       "<table border=\"1\" class=\"dataframe\">\n",
       "  <thead>\n",
       "    <tr style=\"text-align: right;\">\n",
       "      <th></th>\n",
       "      <th>threshold</th>\n",
       "      <th>tp</th>\n",
       "      <th>fp</th>\n",
       "      <th>fn</th>\n",
       "      <th>tn</th>\n",
       "      <th>prec</th>\n",
       "      <th>rec</th>\n",
       "      <th>f1</th>\n",
       "    </tr>\n",
       "  </thead>\n",
       "  <tbody>\n",
       "    <tr>\n",
       "      <td>36</td>\n",
       "      <td>0.36</td>\n",
       "      <td>353</td>\n",
       "      <td>293</td>\n",
       "      <td>133</td>\n",
       "      <td>1081</td>\n",
       "      <td>0.55</td>\n",
       "      <td>0.73</td>\n",
       "      <td>0.627344</td>\n",
       "    </tr>\n",
       "  </tbody>\n",
       "</table>\n",
       "</div>"
      ],
      "text/plain": [
       "    threshold   tp   fp   fn    tn  prec   rec        f1\n",
       "36       0.36  353  293  133  1081  0.55  0.73  0.627344"
      ]
     },
     "execution_count": 20,
     "metadata": {},
     "output_type": "execute_result"
    }
   ],
   "source": [
    "#find threshold where F1 is max\n",
    "df_scores.loc[df_scores['f1'] == df_scores['f1'].max()] "
   ]
  },
  {
   "cell_type": "markdown",
   "metadata": {},
   "source": [
    "If we have a highly imbalanced dataset (1000 negatives, 1 positive), AU ROC<br>\n",
    "could be problematic. Here we can use AU PR (area under precision recall curve)\n",
    "* recall is plotted on x-axis\n",
    "* precision is plotted on y-axis\n",
    "* task: plot PR curve, calculate AU PR score and compare it with random & ideal model"
   ]
  },
  {
   "cell_type": "code",
   "execution_count": 21,
   "metadata": {},
   "outputs": [],
   "source": [
    "#prepare random model\n",
    "\n",
    "#fix random seed for reproducibility\n",
    "np.random.seed(1)\n",
    "#generate array with random numbers between 0 and 1\n",
    "#y_rand contains the \"predictions of our model\"\n",
    "y_rand = np.random.uniform(0, 1, size=len(y_val))"
   ]
  },
  {
   "cell_type": "code",
   "execution_count": 22,
   "metadata": {},
   "outputs": [],
   "source": [
    "#calculate precision and recall at different thresholds\n",
    "\n",
    "#generate function what takes in actual and predicted values\n",
    "def prec_rec_dataframe(y_val, y_pred):\n",
    "    #calculate confusion table for different thresholds\n",
    "    scores = []\n",
    "    thresholds = np.linspace(0, 1, 101)\n",
    "    for t in thresholds:\n",
    "        tp = ((y_pred >= t) & (y_val == 1)).sum()\n",
    "        fp = ((y_pred >= t) & (y_val == 0)).sum()\n",
    "        fn = ((y_pred < t) & (y_val == 1)).sum()\n",
    "        tn = ((y_pred < t) & (y_val == 0)).sum()\n",
    "        scores.append((t, tp, fp, fn, tn))\n",
    "    \n",
    "    #convert confusion table numbers to dataframe and give columns a name\n",
    "    df_scores = pd.DataFrame(scores)\n",
    "    df_scores.columns = ['threshold', 'tp', 'fp', 'fn', 'tn']\n",
    "    \n",
    "    #calculate precision & recall\n",
    "    df_scores['prec'] = df_scores.tp / (df_scores.tp + df_scores.fp)\n",
    "    df_scores['rec'] = df_scores.tp / (df_scores.tp + df_scores.fn)\n",
    "    \n",
    "    return df_scores"
   ]
  },
  {
   "cell_type": "code",
   "execution_count": 23,
   "metadata": {},
   "outputs": [],
   "source": [
    "#use function to calculate precision and recall for random model\n",
    "df_rand = prec_rec_dataframe(y_val, y_rand)"
   ]
  },
  {
   "cell_type": "code",
   "execution_count": 24,
   "metadata": {},
   "outputs": [],
   "source": [
    "#generate ideal predictions\n",
    "#generate array with fake target variables, that are already ordered\n",
    "#it firstly only contains 0's, then it only contains 1's\n",
    "\n",
    "#calculate number of negative and positive examples in dataset\n",
    "num_neg = (y_val == 0).sum()\n",
    "num_pos = (y_val == 1).sum()\n",
    "\n",
    "#generate array that firstly repeates 0s num_neg number of times,\n",
    "#then generates 1s repeated num_pos number of times\n",
    "y_ideal = np.repeat([0,1], [num_neg, num_pos])\n",
    "\n",
    "#generate \"predicitions of the model\"：numbers that grow \n",
    "#from 0 in first cell to 1 in last cell\n",
    "y_pred_ideal = np.linspace(0, 1, num_neg + num_pos)\n",
    "\n",
    "#calculate precision and recall for this model\n",
    "df_ideal = prec_rec_dataframe(y_ideal, y_pred_ideal)"
   ]
  },
  {
   "cell_type": "code",
   "execution_count": 25,
   "metadata": {},
   "outputs": [
    {
     "data": {
      "text/plain": [
       "<matplotlib.legend.Legend at 0x14e4eef9f48>"
      ]
     },
     "execution_count": 25,
     "metadata": {},
     "output_type": "execute_result"
    },
    {
     "data": {
      "image/png": "[encoded data removed]",
      "text/plain": [
       "<Figure size 360x360 with 1 Axes>"
      ]
     },
     "metadata": {
      "needs_background": "light"
     },
     "output_type": "display_data"
    }
   ],
   "source": [
    "#create PR curve\n",
    "\n",
    "#prepare plot square\n",
    "plt.figure(figsize=(5, 5))\n",
    "#plot PR curve for the model\n",
    "plt.plot(df_scores.rec, df_scores.prec, label='Model')\n",
    "#plot PR curve for the random baseline model\n",
    "plt.plot(df_rand.rec, df_rand.prec, label='Random')\n",
    "#plot PR curve for the ideal ranking model\n",
    "plt.plot(df_ideal.rec, df_ideal.prec, label='Ideal')\n",
    "plt.xlabel('Recall', color='white')\n",
    "plt.ylabel('Precision', color='white')\n",
    "plt.title('PR Curve', color='white')\n",
    "\n",
    "plt.legend()\n"
   ]
  },
  {
   "cell_type": "code",
   "execution_count": 26,
   "metadata": {},
   "outputs": [
    {
     "data": {
      "text/html": [
       "<div>\n",
       "<style scoped>\n",
       "    .dataframe tbody tr th:only-of-type {\n",
       "        vertical-align: middle;\n",
       "    }\n",
       "\n",
       "    .dataframe tbody tr th {\n",
       "        vertical-align: top;\n",
       "    }\n",
       "\n",
       "    .dataframe thead th {\n",
       "        text-align: right;\n",
       "    }\n",
       "</style>\n",
       "<table border=\"1\" class=\"dataframe\">\n",
       "  <thead>\n",
       "    <tr style=\"text-align: right;\">\n",
       "      <th></th>\n",
       "      <th>threshold</th>\n",
       "      <th>tp</th>\n",
       "      <th>fp</th>\n",
       "      <th>fn</th>\n",
       "      <th>tn</th>\n",
       "      <th>prec</th>\n",
       "      <th>rec</th>\n",
       "      <th>f1</th>\n",
       "    </tr>\n",
       "  </thead>\n",
       "  <tbody>\n",
       "    <tr>\n",
       "      <td>0</td>\n",
       "      <td>0.00</td>\n",
       "      <td>486</td>\n",
       "      <td>1374</td>\n",
       "      <td>0</td>\n",
       "      <td>0</td>\n",
       "      <td>0.26</td>\n",
       "      <td>1.00</td>\n",
       "      <td>0.412698</td>\n",
       "    </tr>\n",
       "    <tr>\n",
       "      <td>1</td>\n",
       "      <td>0.01</td>\n",
       "      <td>483</td>\n",
       "      <td>1190</td>\n",
       "      <td>3</td>\n",
       "      <td>184</td>\n",
       "      <td>0.29</td>\n",
       "      <td>0.99</td>\n",
       "      <td>0.448594</td>\n",
       "    </tr>\n",
       "    <tr>\n",
       "      <td>2</td>\n",
       "      <td>0.02</td>\n",
       "      <td>481</td>\n",
       "      <td>1074</td>\n",
       "      <td>5</td>\n",
       "      <td>300</td>\n",
       "      <td>0.31</td>\n",
       "      <td>0.99</td>\n",
       "      <td>0.472154</td>\n",
       "    </tr>\n",
       "    <tr>\n",
       "      <td>3</td>\n",
       "      <td>0.03</td>\n",
       "      <td>478</td>\n",
       "      <td>1011</td>\n",
       "      <td>8</td>\n",
       "      <td>363</td>\n",
       "      <td>0.32</td>\n",
       "      <td>0.98</td>\n",
       "      <td>0.482462</td>\n",
       "    </tr>\n",
       "    <tr>\n",
       "      <td>4</td>\n",
       "      <td>0.04</td>\n",
       "      <td>478</td>\n",
       "      <td>970</td>\n",
       "      <td>8</td>\n",
       "      <td>404</td>\n",
       "      <td>0.33</td>\n",
       "      <td>0.98</td>\n",
       "      <td>0.493740</td>\n",
       "    </tr>\n",
       "  </tbody>\n",
       "</table>\n",
       "</div>"
      ],
      "text/plain": [
       "   threshold   tp    fp  fn   tn  prec   rec        f1\n",
       "0       0.00  486  1374   0    0  0.26  1.00  0.412698\n",
       "1       0.01  483  1190   3  184  0.29  0.99  0.448594\n",
       "2       0.02  481  1074   5  300  0.31  0.99  0.472154\n",
       "3       0.03  478  1011   8  363  0.32  0.98  0.482462\n",
       "4       0.04  478   970   8  404  0.33  0.98  0.493740"
      ]
     },
     "execution_count": 26,
     "metadata": {},
     "output_type": "execute_result"
    }
   ],
   "source": [
    "df_scores.head()"
   ]
  },
  {
   "cell_type": "code",
   "execution_count": null,
   "metadata": {},
   "outputs": [],
   "source": []
  }
 ],
 "metadata": {
  "kernelspec": {
   "display_name": "Python 3",
   "language": "python",
   "name": "python3"
  },
  "language_info": {
   "codemirror_mode": {
    "name": "ipython",
    "version": 3
   },
   "file_extension": ".py",
   "mimetype": "text/x-python",
   "name": "python",
   "nbconvert_exporter": "python",
   "pygments_lexer": "ipython3",
   "version": "3.7.4"
  }
 },
 "nbformat": 4,
 "nbformat_minor": 2
}
